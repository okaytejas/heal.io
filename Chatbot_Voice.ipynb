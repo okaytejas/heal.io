{
  "nbformat": 4,
  "nbformat_minor": 0,
  "metadata": {
    "accelerator": "TPU",
    "colab": {
      "name": "Chatbot.ipynb",
      "provenance": []
    },
    "kernelspec": {
      "display_name": "Python 3",
      "language": "python",
      "name": "python3"
    },
    "language_info": {
      "codemirror_mode": {
        "name": "ipython",
        "version": 3
      },
      "file_extension": ".py",
      "mimetype": "text/x-python",
      "name": "python",
      "nbconvert_exporter": "python",
      "pygments_lexer": "ipython3",
      "version": "3.6.7"
    }
  },
  "cells": [
    {
      "cell_type": "code",
      "metadata": {
        "colab_type": "code",
        "outputId": "19c03748-af1c-4573-841c-a0d85ff1e42c",
        "id": "9GfAPIqlCYOn",
        "colab": {
          "base_uri": "https://localhost:8080/",
          "height": 374
        }
      },
      "source": [
        "# Libraries needed for NLP\n",
        "\n",
        "!pip install gTTS\n",
        "!pip install tflearn\n",
        "import nltk\n",
        "nltk.download('punkt')\n",
        "from nltk.stem.lancaster import LancasterStemmer\n",
        "stemmer = LancasterStemmer()\n",
        "\n",
        "# Libraries needed for Tensorflow processing\n",
        "import tensorflow.compat.v1 as tf\n",
        "import numpy as np\n",
        "import tflearn\n",
        "import random\n",
        "from gtts import gTTS\n",
        "from IPython.display import Audio\n",
        "tts = gTTS('hello joyjit')\n",
        "tts.save('1.wav')\n",
        "sound_file = '1.wav'\n",
        "Audio(sound_file, autoplay=True)\n",
        "\n",
        "import json"
      ],
      "execution_count": 4,
      "outputs": [
        {
          "output_type": "stream",
          "text": [
            "Collecting gTTS\n",
            "  Downloading https://files.pythonhosted.org/packages/b5/e7/29f8d334627629aa842ecd13a77c82c5419de849c53e906f472ce7e0c768/gTTS-2.1.0-py3-none-any.whl\n",
            "Requirement already satisfied: requests in /usr/local/lib/python3.6/dist-packages (from gTTS) (2.21.0)\n",
            "Requirement already satisfied: beautifulsoup4 in /usr/local/lib/python3.6/dist-packages (from gTTS) (4.6.3)\n",
            "Requirement already satisfied: six in /usr/local/lib/python3.6/dist-packages (from gTTS) (1.12.0)\n",
            "Requirement already satisfied: click in /usr/local/lib/python3.6/dist-packages (from gTTS) (7.0)\n",
            "Collecting gtts-token>=1.1.3\n",
            "  Downloading https://files.pythonhosted.org/packages/e7/25/ca6e9cd3275bfc3097fe6b06cc31db6d3dfaf32e032e0f73fead9c9a03ce/gTTS-token-1.1.3.tar.gz\n",
            "Requirement already satisfied: certifi>=2017.4.17 in /usr/local/lib/python3.6/dist-packages (from requests->gTTS) (2019.11.28)\n",
            "Requirement already satisfied: chardet<3.1.0,>=3.0.2 in /usr/local/lib/python3.6/dist-packages (from requests->gTTS) (3.0.4)\n",
            "Requirement already satisfied: idna<2.9,>=2.5 in /usr/local/lib/python3.6/dist-packages (from requests->gTTS) (2.8)\n",
            "Requirement already satisfied: urllib3<1.25,>=1.21.1 in /usr/local/lib/python3.6/dist-packages (from requests->gTTS) (1.24.3)\n",
            "Building wheels for collected packages: gtts-token\n",
            "  Building wheel for gtts-token (setup.py) ... \u001b[?25l\u001b[?25hdone\n",
            "  Created wheel for gtts-token: filename=gTTS_token-1.1.3-cp36-none-any.whl size=4097 sha256=26647819a93ccda0c0bcaae9a764f9b1774407c06b63f23746b6c8f14ae0ef55\n",
            "  Stored in directory: /root/.cache/pip/wheels/dd/11/61/33f7e51bf545e910552b2255eead2a7cd8ef54064b46dceb34\n",
            "Successfully built gtts-token\n",
            "Installing collected packages: gtts-token, gTTS\n",
            "Successfully installed gTTS-2.1.0 gtts-token-1.1.3\n",
            "[nltk_data] Downloading package punkt to /root/nltk_data...\n",
            "[nltk_data]   Package punkt is already up-to-date!\n"
          ],
          "name": "stdout"
        }
      ]
    },
    {
      "cell_type": "code",
      "metadata": {
        "colab_type": "code",
        "id": "zitZRhjq9Vqu",
        "outputId": "71668f23-62cb-49c8-8f87-a68ab9e23938",
        "colab": {
          "resources": {
            "http://localhost:8080/nbextensions/google.colab/files.js": {
              "data": "Ly8gQ29weXJpZ2h0IDIwMTcgR29vZ2xlIExMQwovLwovLyBMaWNlbnNlZCB1bmRlciB0aGUgQXBhY2hlIExpY2Vuc2UsIFZlcnNpb24gMi4wICh0aGUgIkxpY2Vuc2UiKTsKLy8geW91IG1heSBub3QgdXNlIHRoaXMgZmlsZSBleGNlcHQgaW4gY29tcGxpYW5jZSB3aXRoIHRoZSBMaWNlbnNlLgovLyBZb3UgbWF5IG9idGFpbiBhIGNvcHkgb2YgdGhlIExpY2Vuc2UgYXQKLy8KLy8gICAgICBodHRwOi8vd3d3LmFwYWNoZS5vcmcvbGljZW5zZXMvTElDRU5TRS0yLjAKLy8KLy8gVW5sZXNzIHJlcXVpcmVkIGJ5IGFwcGxpY2FibGUgbGF3IG9yIGFncmVlZCB0byBpbiB3cml0aW5nLCBzb2Z0d2FyZQovLyBkaXN0cmlidXRlZCB1bmRlciB0aGUgTGljZW5zZSBpcyBkaXN0cmlidXRlZCBvbiBhbiAiQVMgSVMiIEJBU0lTLAovLyBXSVRIT1VUIFdBUlJBTlRJRVMgT1IgQ09ORElUSU9OUyBPRiBBTlkgS0lORCwgZWl0aGVyIGV4cHJlc3Mgb3IgaW1wbGllZC4KLy8gU2VlIHRoZSBMaWNlbnNlIGZvciB0aGUgc3BlY2lmaWMgbGFuZ3VhZ2UgZ292ZXJuaW5nIHBlcm1pc3Npb25zIGFuZAovLyBsaW1pdGF0aW9ucyB1bmRlciB0aGUgTGljZW5zZS4KCi8qKgogKiBAZmlsZW92ZXJ2aWV3IEhlbHBlcnMgZm9yIGdvb2dsZS5jb2xhYiBQeXRob24gbW9kdWxlLgogKi8KKGZ1bmN0aW9uKHNjb3BlKSB7CmZ1bmN0aW9uIHNwYW4odGV4dCwgc3R5bGVBdHRyaWJ1dGVzID0ge30pIHsKICBjb25zdCBlbGVtZW50ID0gZG9jdW1lbnQuY3JlYXRlRWxlbWVudCgnc3BhbicpOwogIGVsZW1lbnQudGV4dENvbnRlbnQgPSB0ZXh0OwogIGZvciAoY29uc3Qga2V5IG9mIE9iamVjdC5rZXlzKHN0eWxlQXR0cmlidXRlcykpIHsKICAgIGVsZW1lbnQuc3R5bGVba2V5XSA9IHN0eWxlQXR0cmlidXRlc1trZXldOwogIH0KICByZXR1cm4gZWxlbWVudDsKfQoKLy8gTWF4IG51bWJlciBvZiBieXRlcyB3aGljaCB3aWxsIGJlIHVwbG9hZGVkIGF0IGEgdGltZS4KY29uc3QgTUFYX1BBWUxPQURfU0laRSA9IDEwMCAqIDEwMjQ7Ci8vIE1heCBhbW91bnQgb2YgdGltZSB0byBibG9jayB3YWl0aW5nIGZvciB0aGUgdXNlci4KY29uc3QgRklMRV9DSEFOR0VfVElNRU9VVF9NUyA9IDMwICogMTAwMDsKCmZ1bmN0aW9uIF91cGxvYWRGaWxlcyhpbnB1dElkLCBvdXRwdXRJZCkgewogIGNvbnN0IHN0ZXBzID0gdXBsb2FkRmlsZXNTdGVwKGlucHV0SWQsIG91dHB1dElkKTsKICBjb25zdCBvdXRwdXRFbGVtZW50ID0gZG9jdW1lbnQuZ2V0RWxlbWVudEJ5SWQob3V0cHV0SWQpOwogIC8vIENhY2hlIHN0ZXBzIG9uIHRoZSBvdXRwdXRFbGVtZW50IHRvIG1ha2UgaXQgYXZhaWxhYmxlIGZvciB0aGUgbmV4dCBjYWxsCiAgLy8gdG8gdXBsb2FkRmlsZXNDb250aW51ZSBmcm9tIFB5dGhvbi4KICBvdXRwdXRFbGVtZW50LnN0ZXBzID0gc3RlcHM7CgogIHJldHVybiBfdXBsb2FkRmlsZXNDb250aW51ZShvdXRwdXRJZCk7Cn0KCi8vIFRoaXMgaXMgcm91Z2hseSBhbiBhc3luYyBnZW5lcmF0b3IgKG5vdCBzdXBwb3J0ZWQgaW4gdGhlIGJyb3dzZXIgeWV0KSwKLy8gd2hlcmUgdGhlcmUgYXJlIG11bHRpcGxlIGFzeW5jaHJvbm91cyBzdGVwcyBhbmQgdGhlIFB5dGhvbiBzaWRlIGlzIGdvaW5nCi8vIHRvIHBvbGwgZm9yIGNvbXBsZXRpb24gb2YgZWFjaCBzdGVwLgovLyBUaGlzIHVzZXMgYSBQcm9taXNlIHRvIGJsb2NrIHRoZSBweXRob24gc2lkZSBvbiBjb21wbGV0aW9uIG9mIGVhY2ggc3RlcCwKLy8gdGhlbiBwYXNzZXMgdGhlIHJlc3VsdCBvZiB0aGUgcHJldmlvdXMgc3RlcCBhcyB0aGUgaW5wdXQgdG8gdGhlIG5leHQgc3RlcC4KZnVuY3Rpb24gX3VwbG9hZEZpbGVzQ29udGludWUob3V0cHV0SWQpIHsKICBjb25zdCBvdXRwdXRFbGVtZW50ID0gZG9jdW1lbnQuZ2V0RWxlbWVudEJ5SWQob3V0cHV0SWQpOwogIGNvbnN0IHN0ZXBzID0gb3V0cHV0RWxlbWVudC5zdGVwczsKCiAgY29uc3QgbmV4dCA9IHN0ZXBzLm5leHQob3V0cHV0RWxlbWVudC5sYXN0UHJvbWlzZVZhbHVlKTsKICByZXR1cm4gUHJvbWlzZS5yZXNvbHZlKG5leHQudmFsdWUucHJvbWlzZSkudGhlbigodmFsdWUpID0+IHsKICAgIC8vIENhY2hlIHRoZSBsYXN0IHByb21pc2UgdmFsdWUgdG8gbWFrZSBpdCBhdmFpbGFibGUgdG8gdGhlIG5leHQKICAgIC8vIHN0ZXAgb2YgdGhlIGdlbmVyYXRvci4KICAgIG91dHB1dEVsZW1lbnQubGFzdFByb21pc2VWYWx1ZSA9IHZhbHVlOwogICAgcmV0dXJuIG5leHQudmFsdWUucmVzcG9uc2U7CiAgfSk7Cn0KCi8qKgogKiBHZW5lcmF0b3IgZnVuY3Rpb24gd2hpY2ggaXMgY2FsbGVkIGJldHdlZW4gZWFjaCBhc3luYyBzdGVwIG9mIHRoZSB1cGxvYWQKICogcHJvY2Vzcy4KICogQHBhcmFtIHtzdHJpbmd9IGlucHV0SWQgRWxlbWVudCBJRCBvZiB0aGUgaW5wdXQgZmlsZSBwaWNrZXIgZWxlbWVudC4KICogQHBhcmFtIHtzdHJpbmd9IG91dHB1dElkIEVsZW1lbnQgSUQgb2YgdGhlIG91dHB1dCBkaXNwbGF5LgogKiBAcmV0dXJuIHshSXRlcmFibGU8IU9iamVjdD59IEl0ZXJhYmxlIG9mIG5leHQgc3RlcHMuCiAqLwpmdW5jdGlvbiogdXBsb2FkRmlsZXNTdGVwKGlucHV0SWQsIG91dHB1dElkKSB7CiAgY29uc3QgaW5wdXRFbGVtZW50ID0gZG9jdW1lbnQuZ2V0RWxlbWVudEJ5SWQoaW5wdXRJZCk7CiAgaW5wdXRFbGVtZW50LmRpc2FibGVkID0gZmFsc2U7CgogIGNvbnN0IG91dHB1dEVsZW1lbnQgPSBkb2N1bWVudC5nZXRFbGVtZW50QnlJZChvdXRwdXRJZCk7CiAgb3V0cHV0RWxlbWVudC5pbm5lckhUTUwgPSAnJzsKCiAgY29uc3QgcGlja2VkUHJvbWlzZSA9IG5ldyBQcm9taXNlKChyZXNvbHZlKSA9PiB7CiAgICBpbnB1dEVsZW1lbnQuYWRkRXZlbnRMaXN0ZW5lcignY2hhbmdlJywgKGUpID0+IHsKICAgICAgcmVzb2x2ZShlLnRhcmdldC5maWxlcyk7CiAgICB9KTsKICB9KTsKCiAgY29uc3QgY2FuY2VsID0gZG9jdW1lbnQuY3JlYXRlRWxlbWVudCgnYnV0dG9uJyk7CiAgaW5wdXRFbGVtZW50LnBhcmVudEVsZW1lbnQuYXBwZW5kQ2hpbGQoY2FuY2VsKTsKICBjYW5jZWwudGV4dENvbnRlbnQgPSAnQ2FuY2VsIHVwbG9hZCc7CiAgY29uc3QgY2FuY2VsUHJvbWlzZSA9IG5ldyBQcm9taXNlKChyZXNvbHZlKSA9PiB7CiAgICBjYW5jZWwub25jbGljayA9ICgpID0+IHsKICAgICAgcmVzb2x2ZShudWxsKTsKICAgIH07CiAgfSk7CgogIC8vIENhbmNlbCB1cGxvYWQgaWYgdXNlciBoYXNuJ3QgcGlja2VkIGFueXRoaW5nIGluIHRpbWVvdXQuCiAgY29uc3QgdGltZW91dFByb21pc2UgPSBuZXcgUHJvbWlzZSgocmVzb2x2ZSkgPT4gewogICAgc2V0VGltZW91dCgoKSA9PiB7CiAgICAgIHJlc29sdmUobnVsbCk7CiAgICB9LCBGSUxFX0NIQU5HRV9USU1FT1VUX01TKTsKICB9KTsKCiAgLy8gV2FpdCBmb3IgdGhlIHVzZXIgdG8gcGljayB0aGUgZmlsZXMuCiAgY29uc3QgZmlsZXMgPSB5aWVsZCB7CiAgICBwcm9taXNlOiBQcm9taXNlLnJhY2UoW3BpY2tlZFByb21pc2UsIHRpbWVvdXRQcm9taXNlLCBjYW5jZWxQcm9taXNlXSksCiAgICByZXNwb25zZTogewogICAgICBhY3Rpb246ICdzdGFydGluZycsCiAgICB9CiAgfTsKCiAgaWYgKCFmaWxlcykgewogICAgcmV0dXJuIHsKICAgICAgcmVzcG9uc2U6IHsKICAgICAgICBhY3Rpb246ICdjb21wbGV0ZScsCiAgICAgIH0KICAgIH07CiAgfQoKICBjYW5jZWwucmVtb3ZlKCk7CgogIC8vIERpc2FibGUgdGhlIGlucHV0IGVsZW1lbnQgc2luY2UgZnVydGhlciBwaWNrcyBhcmUgbm90IGFsbG93ZWQuCiAgaW5wdXRFbGVtZW50LmRpc2FibGVkID0gdHJ1ZTsKCiAgZm9yIChjb25zdCBmaWxlIG9mIGZpbGVzKSB7CiAgICBjb25zdCBsaSA9IGRvY3VtZW50LmNyZWF0ZUVsZW1lbnQoJ2xpJyk7CiAgICBsaS5hcHBlbmQoc3BhbihmaWxlLm5hbWUsIHtmb250V2VpZ2h0OiAnYm9sZCd9KSk7CiAgICBsaS5hcHBlbmQoc3BhbigKICAgICAgICBgKCR7ZmlsZS50eXBlIHx8ICduL2EnfSkgLSAke2ZpbGUuc2l6ZX0gYnl0ZXMsIGAgKwogICAgICAgIGBsYXN0IG1vZGlmaWVkOiAkewogICAgICAgICAgICBmaWxlLmxhc3RNb2RpZmllZERhdGUgPyBmaWxlLmxhc3RNb2RpZmllZERhdGUudG9Mb2NhbGVEYXRlU3RyaW5nKCkgOgogICAgICAgICAgICAgICAgICAgICAgICAgICAgICAgICAgICAnbi9hJ30gLSBgKSk7CiAgICBjb25zdCBwZXJjZW50ID0gc3BhbignMCUgZG9uZScpOwogICAgbGkuYXBwZW5kQ2hpbGQocGVyY2VudCk7CgogICAgb3V0cHV0RWxlbWVudC5hcHBlbmRDaGlsZChsaSk7CgogICAgY29uc3QgZmlsZURhdGFQcm9taXNlID0gbmV3IFByb21pc2UoKHJlc29sdmUpID0+IHsKICAgICAgY29uc3QgcmVhZGVyID0gbmV3IEZpbGVSZWFkZXIoKTsKICAgICAgcmVhZGVyLm9ubG9hZCA9IChlKSA9PiB7CiAgICAgICAgcmVzb2x2ZShlLnRhcmdldC5yZXN1bHQpOwogICAgICB9OwogICAgICByZWFkZXIucmVhZEFzQXJyYXlCdWZmZXIoZmlsZSk7CiAgICB9KTsKICAgIC8vIFdhaXQgZm9yIHRoZSBkYXRhIHRvIGJlIHJlYWR5LgogICAgbGV0IGZpbGVEYXRhID0geWllbGQgewogICAgICBwcm9taXNlOiBmaWxlRGF0YVByb21pc2UsCiAgICAgIHJlc3BvbnNlOiB7CiAgICAgICAgYWN0aW9uOiAnY29udGludWUnLAogICAgICB9CiAgICB9OwoKICAgIC8vIFVzZSBhIGNodW5rZWQgc2VuZGluZyB0byBhdm9pZCBtZXNzYWdlIHNpemUgbGltaXRzLiBTZWUgYi82MjExNTY2MC4KICAgIGxldCBwb3NpdGlvbiA9IDA7CiAgICB3aGlsZSAocG9zaXRpb24gPCBmaWxlRGF0YS5ieXRlTGVuZ3RoKSB7CiAgICAgIGNvbnN0IGxlbmd0aCA9IE1hdGgubWluKGZpbGVEYXRhLmJ5dGVMZW5ndGggLSBwb3NpdGlvbiwgTUFYX1BBWUxPQURfU0laRSk7CiAgICAgIGNvbnN0IGNodW5rID0gbmV3IFVpbnQ4QXJyYXkoZmlsZURhdGEsIHBvc2l0aW9uLCBsZW5ndGgpOwogICAgICBwb3NpdGlvbiArPSBsZW5ndGg7CgogICAgICBjb25zdCBiYXNlNjQgPSBidG9hKFN0cmluZy5mcm9tQ2hhckNvZGUuYXBwbHkobnVsbCwgY2h1bmspKTsKICAgICAgeWllbGQgewogICAgICAgIHJlc3BvbnNlOiB7CiAgICAgICAgICBhY3Rpb246ICdhcHBlbmQnLAogICAgICAgICAgZmlsZTogZmlsZS5uYW1lLAogICAgICAgICAgZGF0YTogYmFzZTY0LAogICAgICAgIH0sCiAgICAgIH07CiAgICAgIHBlcmNlbnQudGV4dENvbnRlbnQgPQogICAgICAgICAgYCR7TWF0aC5yb3VuZCgocG9zaXRpb24gLyBmaWxlRGF0YS5ieXRlTGVuZ3RoKSAqIDEwMCl9JSBkb25lYDsKICAgIH0KICB9CgogIC8vIEFsbCBkb25lLgogIHlpZWxkIHsKICAgIHJlc3BvbnNlOiB7CiAgICAgIGFjdGlvbjogJ2NvbXBsZXRlJywKICAgIH0KICB9Owp9CgpzY29wZS5nb29nbGUgPSBzY29wZS5nb29nbGUgfHwge307CnNjb3BlLmdvb2dsZS5jb2xhYiA9IHNjb3BlLmdvb2dsZS5jb2xhYiB8fCB7fTsKc2NvcGUuZ29vZ2xlLmNvbGFiLl9maWxlcyA9IHsKICBfdXBsb2FkRmlsZXMsCiAgX3VwbG9hZEZpbGVzQ29udGludWUsCn07Cn0pKHNlbGYpOwo=",
              "ok": true,
              "headers": [
                [
                  "content-type",
                  "application/javascript"
                ]
              ],
              "status": 200,
              "status_text": ""
            }
          },
          "base_uri": "https://localhost:8080/",
          "height": 111
        }
      },
      "source": [
        "from google.colab import files\n",
        "files.upload()"
      ],
      "execution_count": 6,
      "outputs": [
        {
          "output_type": "display_data",
          "data": {
            "text/html": [
              "\n",
              "     <input type=\"file\" id=\"files-3a8c8267-0b1f-4289-b78d-62b2b5a5b19a\" name=\"files[]\" multiple disabled />\n",
              "     <output id=\"result-3a8c8267-0b1f-4289-b78d-62b2b5a5b19a\">\n",
              "      Upload widget is only available when the cell has been executed in the\n",
              "      current browser session. Please rerun this cell to enable.\n",
              "      </output>\n",
              "      <script src=\"/nbextensions/google.colab/files.js\"></script> "
            ],
            "text/plain": [
              "<IPython.core.display.HTML object>"
            ]
          },
          "metadata": {
            "tags": []
          }
        },
        {
          "output_type": "stream",
          "text": [
            "Saving intents.json to intents.json\n"
          ],
          "name": "stdout"
        },
        {
          "output_type": "execute_result",
          "data": {
            "text/plain": [
              "{'intents.json': b'{\"intents\": [\\n        {\"tag\": \"greeting\",\\n         \"patterns\": [\"Hi\", \"How are you\", \"Is anyone there?\", \"Hello\", \"Good day\",\"Namaste ji\"],\\n         \"responses\": [\"Hello, thanks for visiting\", \"Good to see you again\", \"Hi there, how can I help?\"],\\n         \"context_set\": \"\"\\n        },\\n        {\"tag\": \"goodbye\",\\n         \"patterns\": [\"Bye\", \"See you later\", \"Goodbye\"],\\n         \"responses\": [\"See you later, thanks for visiting\", \"Have a nice day\", \"Bye! Come back again soon.\"]\\n        },\\n        {\"tag\": \"thanks\",\\n         \"patterns\": [\"Thanks\", \"Thank you\", \"That\\'s helpful\"],\\n         \"responses\": [\"Happy to help!\", \"Any time!\", \"My pleasure\"]\\n        },\\n        {\"tag\": \"hours\",\\n         \"patterns\": [\"What hours are you open?\", \"What are your hours?\", \"When are you open?\" ],\\n         \"responses\": [\"We\\'re open every day 9am-9pm\", \"Our hours are 9am-9pm every day\"]\\n        },\\n        {\"tag\": \"fever\",\\n         \"patterns\": [\"high body temperature\", \"body temperature increasing\", \"high temperature\", \"very high temperature\" ],\\n         \"responses\": [\"these are symptoms of fever\", \"you might hve fever please consult doctor\", \"first aid medicine is paracitamol\"]\\n        },\\n        {\"tag\": \"stomach\",\\n         \"patterns\": [\"pain in stomach\", \"stomach ache\", \"stomach is paining\" ],\\n         \"responses\": [\"symtoms of food poisoning\", \"stomach is upset\", \"symtomps of stomach disorder consult doctor\"]\\n        },\\n        {\"tag\": \"eyes\",\\n         \"patterns\": [\"redness in eye\", \"pain in eyes\", \"tears in eye\",\"pain and redness in eyes\"],\\n         \"responses\": [\"symtomps of eye infection\", \"if your age is above 60yrs you may have catract\",\"take cooling eye drop\"]\\n        },\\n        {\"tag\": \"deliveryoption\",\\n         \"patterns\": [\"Do you provide home delivery?\", \"Do you deliver the food?\", \"What are the home delivery options?\" ],\\n         \"responses\": [\"Yes, we provide home delivery through UBER Eats and Zomato?\", \"We have home delivery options through UBER Eats and Zomato\"],\\n         \"context_set\": \"food\"\\n        },\\n        {\"tag\": \"menu\",\\n         \"patterns\": [\"What is your Menu?\", \"What are the main course options?\", \"Can you tell me the most delicious dish from the menu?\", \"What is the today\\'s special?\"],\\n         \"responses\": [\"You can visit www.mymenu.com for menu options\", \"You can check out the food menu at www.mymenu.com\", \"You can check various delicacies given in the food menu at www.mymenu.com\"],\\n         \"context_filter\": \"food\"\\n        }\\n   ]\\n}\\n'}"
            ]
          },
          "metadata": {
            "tags": []
          },
          "execution_count": 6
        }
      ]
    },
    {
      "cell_type": "code",
      "metadata": {
        "colab_type": "code",
        "id": "sBEuh9TEGBo7",
        "colab": {}
      },
      "source": [
        "# import our chat-bot intents file\n",
        "with open('intents.json') as json_data:\n",
        "    intents = json.load(json_data)"
      ],
      "execution_count": 0,
      "outputs": []
    },
    {
      "cell_type": "code",
      "metadata": {
        "colab_type": "code",
        "id": "mpFsVWPKGKbI",
        "outputId": "20dcf9f5-eb06-46cd-f4b1-de4399ac7989",
        "colab": {
          "base_uri": "https://localhost:8080/",
          "height": 1000
        }
      },
      "source": [
        "intents"
      ],
      "execution_count": 8,
      "outputs": [
        {
          "output_type": "execute_result",
          "data": {
            "text/plain": [
              "{'intents': [{'context_set': '',\n",
              "   'patterns': ['Hi',\n",
              "    'How are you',\n",
              "    'Is anyone there?',\n",
              "    'Hello',\n",
              "    'Good day',\n",
              "    'Namaste ji'],\n",
              "   'responses': ['Hello, thanks for visiting',\n",
              "    'Good to see you again',\n",
              "    'Hi there, how can I help?'],\n",
              "   'tag': 'greeting'},\n",
              "  {'patterns': ['Bye', 'See you later', 'Goodbye'],\n",
              "   'responses': ['See you later, thanks for visiting',\n",
              "    'Have a nice day',\n",
              "    'Bye! Come back again soon.'],\n",
              "   'tag': 'goodbye'},\n",
              "  {'patterns': ['Thanks', 'Thank you', \"That's helpful\"],\n",
              "   'responses': ['Happy to help!', 'Any time!', 'My pleasure'],\n",
              "   'tag': 'thanks'},\n",
              "  {'patterns': ['What hours are you open?',\n",
              "    'What are your hours?',\n",
              "    'When are you open?'],\n",
              "   'responses': [\"We're open every day 9am-9pm\",\n",
              "    'Our hours are 9am-9pm every day'],\n",
              "   'tag': 'hours'},\n",
              "  {'patterns': ['high body temperature',\n",
              "    'body temperature increasing',\n",
              "    'high temperature',\n",
              "    'very high temperature'],\n",
              "   'responses': ['these are symptoms of fever',\n",
              "    'you might hve fever please consult doctor',\n",
              "    'first aid medicine is paracitamol'],\n",
              "   'tag': 'fever'},\n",
              "  {'patterns': ['pain in stomach', 'stomach ache', 'stomach is paining'],\n",
              "   'responses': ['symtoms of food poisoning',\n",
              "    'stomach is upset',\n",
              "    'symtomps of stomach disorder consult doctor'],\n",
              "   'tag': 'stomach'},\n",
              "  {'patterns': ['redness in eye',\n",
              "    'pain in eyes',\n",
              "    'tears in eye',\n",
              "    'pain and redness in eyes'],\n",
              "   'responses': ['symtomps of eye infection',\n",
              "    'if your age is above 60yrs you may have catract',\n",
              "    'take cooling eye drop'],\n",
              "   'tag': 'eyes'},\n",
              "  {'context_set': 'food',\n",
              "   'patterns': ['Do you provide home delivery?',\n",
              "    'Do you deliver the food?',\n",
              "    'What are the home delivery options?'],\n",
              "   'responses': ['Yes, we provide home delivery through UBER Eats and Zomato?',\n",
              "    'We have home delivery options through UBER Eats and Zomato'],\n",
              "   'tag': 'deliveryoption'},\n",
              "  {'context_filter': 'food',\n",
              "   'patterns': ['What is your Menu?',\n",
              "    'What are the main course options?',\n",
              "    'Can you tell me the most delicious dish from the menu?',\n",
              "    \"What is the today's special?\"],\n",
              "   'responses': ['You can visit www.mymenu.com for menu options',\n",
              "    'You can check out the food menu at www.mymenu.com',\n",
              "    'You can check various delicacies given in the food menu at www.mymenu.com'],\n",
              "   'tag': 'menu'}]}"
            ]
          },
          "metadata": {
            "tags": []
          },
          "execution_count": 8
        }
      ]
    },
    {
      "cell_type": "code",
      "metadata": {
        "colab_type": "code",
        "id": "jUNlDhkSGVL1",
        "colab": {}
      },
      "source": [
        "words = []\n",
        "classes = []\n",
        "documents = []\n",
        "ignore = ['?']\n",
        "# loop through each sentence in the intent's patterns\n",
        "for intent in intents['intents']:\n",
        "    for pattern in intent['patterns']:\n",
        "        # tokenize each and every word in the sentence\n",
        "        w = nltk.word_tokenize(pattern)\n",
        "        # add word to the words list\n",
        "        words.extend(w)\n",
        "        # add word(s) to documents\n",
        "        documents.append((w, intent['tag']))\n",
        "        # add tags to our classes list\n",
        "        if intent['tag'] not in classes:\n",
        "            classes.append(intent['tag'])"
      ],
      "execution_count": 0,
      "outputs": []
    },
    {
      "cell_type": "code",
      "metadata": {
        "colab_type": "code",
        "id": "GO7b9xTwHJMJ",
        "outputId": "1be67b1a-d995-488e-d515-c00b6509b306",
        "colab": {
          "base_uri": "https://localhost:8080/",
          "height": 88
        }
      },
      "source": [
        "# Perform stemming and lower each word as well as remove duplicates\n",
        "words = [stemmer.stem(w.lower()) for w in words if w not in ignore]\n",
        "words = sorted(list(set(words)))\n",
        "\n",
        "# remove duplicate classes\n",
        "classes = sorted(list(set(classes)))\n",
        "\n",
        "print (len(documents), \"documents\")\n",
        "print (len(classes), \"classes\", classes)\n",
        "print (len(words), \"unique stemmed words\", words)"
      ],
      "execution_count": 10,
      "outputs": [
        {
          "output_type": "stream",
          "text": [
            "33 documents\n",
            "9 classes ['deliveryoption', 'eyes', 'fever', 'goodbye', 'greeting', 'hours', 'menu', 'stomach', 'thanks']\n",
            "58 unique stemmed words [\"'s\", 'ach', 'and', 'anyon', 'ar', 'body', 'bye', 'can', 'cours', 'day', 'del', 'delicy', 'delivery', 'dish', 'do', 'ey', 'food', 'from', 'good', 'goodby', 'hello', 'help', 'hi', 'high', 'hom', 'hour', 'how', 'in', 'increas', 'is', 'ji', 'lat', 'main', 'me', 'menu', 'most', 'namast', 'op', 'opt', 'pain', 'provid', 'red', 'see', 'spec', 'stomach', 'tear', 'tel', 'temp', 'thank', 'that', 'the', 'ther', 'today', 'very', 'what', 'when', 'yo', 'you']\n"
          ],
          "name": "stdout"
        }
      ]
    },
    {
      "cell_type": "code",
      "metadata": {
        "colab_type": "code",
        "id": "vziuGlP1Iq-P",
        "colab": {}
      },
      "source": [
        "# create training data\n",
        "training = []\n",
        "output = []\n",
        "# create an empty array for output\n",
        "output_empty = [0] * len(classes)\n",
        "\n",
        "# create training set, bag of words for each sentence\n",
        "for doc in documents:\n",
        "    # initialize bag of words\n",
        "    bag = []\n",
        "    # list of tokenized words for the pattern\n",
        "    pattern_words = doc[0]\n",
        "    # stemming each word\n",
        "    pattern_words = [stemmer.stem(word.lower()) for word in pattern_words]\n",
        "    # create bag of words array\n",
        "    for w in words:\n",
        "        bag.append(1) if w in pattern_words else bag.append(0)\n",
        "\n",
        "    # output is '1' for current tag and '0' for rest of other tags\n",
        "    output_row = list(output_empty)\n",
        "    output_row[classes.index(doc[1])] = 1\n",
        "\n",
        "    training.append([bag, output_row])\n",
        "\n",
        "# shuffling features and turning it into np.array\n",
        "random.shuffle(training)\n",
        "training = np.array(training)\n",
        "\n",
        "# creating training lists\n",
        "train_x = list(training[:,0])\n",
        "train_y = list(training[:,1])"
      ],
      "execution_count": 0,
      "outputs": []
    },
    {
      "cell_type": "code",
      "metadata": {
        "colab_type": "code",
        "id": "ZX8rC1x9PVTb",
        "outputId": "8d56207c-ec2a-4319-b3bd-7f3e2a1a61fd",
        "colab": {
          "base_uri": "https://localhost:8080/",
          "height": 119
        }
      },
      "source": [
        "# resetting underlying graph data\n",
        "tf.reset_default_graph()\n",
        "\n",
        "# Building neural network\n",
        "net = tflearn.input_data(shape=[None, len(train_x[0])])\n",
        "net = tflearn.fully_connected(net, 10)\n",
        "net = tflearn.fully_connected(net, 10)\n",
        "net = tflearn.fully_connected(net, len(train_y[0]), activation='softmax')\n",
        "net = tflearn.regression(net)\n",
        "\n",
        "# Defining model and setting up tensorboard\n",
        "model = tflearn.DNN(net, tensorboard_dir='tflearn_logs')\n",
        "\n",
        "# Start training\n",
        "model.fit(train_x, train_y, n_epoch=1000, batch_size=8, show_metric=True)\n",
        "model.save('model.tflearn')"
      ],
      "execution_count": 12,
      "outputs": [
        {
          "output_type": "stream",
          "text": [
            "Training Step: 4999  | total loss: \u001b[1m\u001b[32m1.26305\u001b[0m\u001b[0m | time: 0.016s\n",
            "| Adam | epoch: 1000 | loss: 1.26305 - acc: 0.8872 -- iter: 32/33\n",
            "Training Step: 5000  | total loss: \u001b[1m\u001b[32m1.14457\u001b[0m\u001b[0m | time: 0.021s\n",
            "| Adam | epoch: 1000 | loss: 1.14457 - acc: 0.9086 -- iter: 33/33\n",
            "--\n",
            "INFO:tensorflow:/content/model.tflearn is not in all_model_checkpoint_paths. Manually adding it.\n"
          ],
          "name": "stdout"
        }
      ]
    },
    {
      "cell_type": "code",
      "metadata": {
        "colab_type": "code",
        "id": "ha2RGmK1Zz5l",
        "colab": {}
      },
      "source": [
        "import pickle\n",
        "pickle.dump( {'words':words, 'classes':classes, 'train_x':train_x, 'train_y':train_y}, open( \"training_data\", \"wb\" ) )"
      ],
      "execution_count": 0,
      "outputs": []
    },
    {
      "cell_type": "code",
      "metadata": {
        "colab_type": "code",
        "id": "ux9WbDZvbAzf",
        "colab": {}
      },
      "source": [
        "# restoring all the data structures\n",
        "data = pickle.load( open( \"training_data\", \"rb\" ) )\n",
        "words = data['words']\n",
        "classes = data['classes']\n",
        "train_x = data['train_x']\n",
        "train_y = data['train_y']"
      ],
      "execution_count": 0,
      "outputs": []
    },
    {
      "cell_type": "code",
      "metadata": {
        "colab_type": "code",
        "id": "WKYk9_FXbLfd",
        "outputId": "bf8a22f5-3185-44d3-ade2-1fb4c296a62d",
        "colab": {
          "base_uri": "https://localhost:8080/",
          "height": 34
        }
      },
      "source": [
        "# load the saved model\n",
        "model.load('./model.tflearn')"
      ],
      "execution_count": 15,
      "outputs": [
        {
          "output_type": "stream",
          "text": [
            "INFO:tensorflow:Restoring parameters from /content/model.tflearn\n"
          ],
          "name": "stdout"
        }
      ]
    },
    {
      "cell_type": "code",
      "metadata": {
        "colab_type": "code",
        "id": "VB27k_vQbhu4",
        "colab": {}
      },
      "source": [
        "def clean_up_sentence(sentence):\n",
        "    # tokenizing the pattern\n",
        "    sentence_words = nltk.word_tokenize(sentence)\n",
        "    # stemming each word\n",
        "    sentence_words = [stemmer.stem(word.lower()) for word in sentence_words]\n",
        "    return sentence_words\n",
        "\n",
        "# returning bag of words array: 0 or 1 for each word in the bag that exists in the sentence\n",
        "def bow(sentence, words, show_details=False):\n",
        "    # tokenizing the pattern\n",
        "    sentence_words = clean_up_sentence(sentence)\n",
        "    # generating bag of words\n",
        "    bag = [0]*len(words)  \n",
        "    for s in sentence_words:\n",
        "        for i,w in enumerate(words):\n",
        "            if w == s: \n",
        "                bag[i] = 1\n",
        "                if show_details:\n",
        "                    print (\"found in bag: %s\" % w)\n",
        "\n",
        "    return(np.array(bag))"
      ],
      "execution_count": 0,
      "outputs": []
    },
    {
      "cell_type": "code",
      "metadata": {
        "colab_type": "code",
        "id": "3lToEtkTb5Pr",
        "colab": {}
      },
      "source": [
        "ERROR_THRESHOLD = 0.30\n",
        "def classify(sentence):\n",
        "    # generate probabilities from the model\n",
        "    results = model.predict([bow(sentence, words)])[0]\n",
        "    # filter out predictions below a threshold\n",
        "    results = [[i,r] for i,r in enumerate(results) if r>ERROR_THRESHOLD]\n",
        "    # sort by strength of probability\n",
        "    results.sort(key=lambda x: x[1], reverse=True)\n",
        "    return_list = []\n",
        "    for r in results:\n",
        "        return_list.append((classes[r[0]], r[1]))\n",
        "    # return tuple of intent and probability\n",
        "    return return_list\n",
        "\n",
        "def response(sentence, userID='123', show_details=False):\n",
        "    results = classify(sentence)\n",
        "    # if we have a classification then find the matching intent tag\n",
        "    if results:\n",
        "        # loop as long as there are matches to process\n",
        "        while results:\n",
        "            for i in intents['intents']:\n",
        "                # find a tag matching the first result\n",
        "                if i['tag'] == results[0][0]:\n",
        "                    # a random response from the intent\n",
        "                    tts = gTTS(random.choice(i['responses']))\n",
        "                    tts.save('1.wav')\n",
        "                    sound_file = '1.wav'\n",
        "                    return Audio(sound_file, autoplay=True)\n",
        "\n",
        "            results.pop(0)"
      ],
      "execution_count": 0,
      "outputs": []
    },
    {
      "cell_type": "code",
      "metadata": {
        "colab_type": "code",
        "id": "eal_MyIEcC9X",
        "outputId": "b3032cc9-5dfe-4a13-d802-97f3314d80d5",
        "colab": {
          "base_uri": "https://localhost:8080/",
          "height": 34
        }
      },
      "source": [
        "classify('What are you hours of operation?')"
      ],
      "execution_count": 22,
      "outputs": [
        {
          "output_type": "execute_result",
          "data": {
            "text/plain": [
              "[('hours', 0.85221)]"
            ]
          },
          "metadata": {
            "tags": []
          },
          "execution_count": 22
        }
      ]
    },
    {
      "cell_type": "code",
      "metadata": {
        "colab_type": "code",
        "id": "zvFA4ef4cW96",
        "outputId": "7db3fa42-b4f0-47d6-b08e-b2d5c5a3cb7a",
        "colab": {
          "base_uri": "https://localhost:8080/",
          "height": 75
        }
      },
      "source": [
        "response('i have pain in eyes')"
      ],
      "execution_count": 24,
      "outputs": [
        {
          "output_type": "execute_result",
          "data": {
            "text/html": [
              "\n",
              "                <audio controls=\"controls\" autoplay=\"autoplay\">\n",
              "                    <source src=\"data:audio/x-wav;base64,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\" type=\"audio/x-wav\" />\n",
              "                    Your browser does not support the audio element.\n",
              "                </audio>\n",
              "              "
            ],
            "text/plain": [
              "<IPython.lib.display.Audio object>"
            ]
          },
          "metadata": {
            "tags": []
          },
          "execution_count": 24
        }
      ]
    },
    {
      "cell_type": "code",
      "metadata": {
        "colab_type": "code",
        "id": "9ox0fJIlOIJ-",
        "outputId": "c5b5d289-7648-452e-8f45-f0598ed4a410",
        "colab": {
          "base_uri": "https://localhost:8080/",
          "height": 75
        }
      },
      "source": [
        "response('i am having high body temperature')"
      ],
      "execution_count": 29,
      "outputs": [
        {
          "output_type": "execute_result",
          "data": {
            "text/html": [
              "\n",
              "                <audio controls=\"controls\" autoplay=\"autoplay\">\n",
              "                    <source src=\"data:audio/x-wav;base64,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\" type=\"audio/x-wav\" />\n",
              "                    Your browser does not support the audio element.\n",
              "                </audio>\n",
              "              "
            ],
            "text/plain": [
              "<IPython.lib.display.Audio object>"
            ]
          },
          "metadata": {
            "tags": []
          },
          "execution_count": 29
        }
      ]
    },
    {
      "cell_type": "code",
      "metadata": {
        "colab_type": "code",
        "id": "xp7OJvpHKXuw",
        "outputId": "0329a57c-bc66-4408-92ef-e28045e972c0",
        "colab": {
          "base_uri": "https://localhost:8080/",
          "height": 75
        }
      },
      "source": [
        "response('hi')"
      ],
      "execution_count": 26,
      "outputs": [
        {
          "output_type": "execute_result",
          "data": {
            "text/html": [
              "\n",
              "                <audio controls=\"controls\" autoplay=\"autoplay\">\n",
              "                    <source src=\"data:audio/x-wav;base64,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\" type=\"audio/x-wav\" />\n",
              "                    Your browser does not support the audio element.\n",
              "                </audio>\n",
              "              "
            ],
            "text/plain": [
              "<IPython.lib.display.Audio object>"
            ]
          },
          "metadata": {
            "tags": []
          },
          "execution_count": 26
        }
      ]
    },
    {
      "cell_type": "code",
      "metadata": {
        "colab_type": "code",
        "id": "3PNLGpl0gKCF",
        "outputId": "f8f511aa-eefb-4f31-bac1-555047014c44",
        "colab": {
          "base_uri": "https://localhost:8080/",
          "height": 75
        }
      },
      "source": [
        "response('That is helpful')"
      ],
      "execution_count": 27,
      "outputs": [
        {
          "output_type": "execute_result",
          "data": {
            "text/html": [
              "\n",
              "                <audio controls=\"controls\" autoplay=\"autoplay\">\n",
              "                    <source src=\"data:audio/x-wav;base64,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\" type=\"audio/x-wav\" />\n",
              "                    Your browser does not support the audio element.\n",
              "                </audio>\n",
              "              "
            ],
            "text/plain": [
              "<IPython.lib.display.Audio object>"
            ]
          },
          "metadata": {
            "tags": []
          },
          "execution_count": 27
        }
      ]
    },
    {
      "cell_type": "code",
      "metadata": {
        "colab_type": "code",
        "id": "wzeIGchZK2fJ",
        "outputId": "6134eb59-28b5-4b35-8315-12da9a74af9a",
        "colab": {
          "base_uri": "https://localhost:8080/",
          "height": 75
        }
      },
      "source": [
        "response('Bye')"
      ],
      "execution_count": 28,
      "outputs": [
        {
          "output_type": "execute_result",
          "data": {
            "text/html": [
              "\n",
              "                <audio controls=\"controls\" autoplay=\"autoplay\">\n",
              "                    <source src=\"data:audio/x-wav;base64,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\" type=\"audio/x-wav\" />\n",
              "                    Your browser does not support the audio element.\n",
              "                </audio>\n",
              "              "
            ],
            "text/plain": [
              "<IPython.lib.display.Audio object>"
            ]
          },
          "metadata": {
            "tags": []
          },
          "execution_count": 28
        }
      ]
    },
    {
      "cell_type": "code",
      "metadata": {
        "colab_type": "code",
        "id": "p_NgjLGwggdI",
        "colab": {}
      },
      "source": [
        "#Adding some context to the conversation i.e. Contexualization for altering question and intents etc.\n",
        "# create a data structure to hold user context\n",
        "context = {}\n",
        "\n",
        "ERROR_THRESHOLD = 0.25\n",
        "def classify(sentence):\n",
        "    # generate probabilities from the model\n",
        "    results = model.predict([bow(sentence, words)])[0]\n",
        "    # filter out predictions below a threshold\n",
        "    results = [[i,r] for i,r in enumerate(results) if r>ERROR_THRESHOLD]\n",
        "    # sort by strength of probability\n",
        "    results.sort(key=lambda x: x[1], reverse=True)\n",
        "    return_list = []\n",
        "    for r in results:\n",
        "        return_list.append((classes[r[0]], r[1]))\n",
        "    # return tuple of intent and probability\n",
        "    return return_list\n",
        "\n",
        "def response(sentence, userID='123', show_details=False):\n",
        "    results = classify(sentence)\n",
        "    # if we have a classification then find the matching intent tag\n",
        "    if results:\n",
        "        # loop as long as there are matches to process\n",
        "        while results:\n",
        "            for i in intents['intents']:\n",
        "                # find a tag matching the first result\n",
        "                if i['tag'] == results[0][0]:\n",
        "                    # set context for this intent if necessary\n",
        "                    if 'context_set' in i:\n",
        "                        if show_details: print ('context:', i['context_set'])\n",
        "                        context[userID] = i['context_set']\n",
        "\n",
        "                    # check if this intent is contextual and applies to this user's conversation\n",
        "                    if not 'context_filter' in i or \\\n",
        "                        (userID in context and 'context_filter' in i and i['context_filter'] == context[userID]):\n",
        "                        if show_details: print ('tag:', i['tag'])\n",
        "                        # a random response from the intent\n",
        "                        return print(random.choice(i['responses']))\n",
        "\n",
        "            results.pop(0)"
      ],
      "execution_count": 0,
      "outputs": []
    },
    {
      "cell_type": "code",
      "metadata": {
        "colab_type": "code",
        "id": "Gqyn3Q-LGpfe",
        "outputId": "24be5520-1f5b-40d6-dd13-d2b151ba8fc4",
        "colab": {
          "base_uri": "https://localhost:8080/",
          "height": 34
        }
      },
      "source": [
        "response('Can you please let me know the delivery options?')"
      ],
      "execution_count": 0,
      "outputs": [
        {
          "output_type": "stream",
          "text": [
            "We have home delivery options through UBER Eats and Zomato\n"
          ],
          "name": "stdout"
        }
      ]
    },
    {
      "cell_type": "code",
      "metadata": {
        "colab_type": "code",
        "id": "NtqhOcjlG6O4",
        "outputId": "08d40e82-2e3b-47c8-8a37-219ffb0b4fb9",
        "colab": {
          "base_uri": "https://localhost:8080/",
          "height": 34
        }
      },
      "source": [
        "response('What is menu for today?')"
      ],
      "execution_count": 0,
      "outputs": [
        {
          "output_type": "stream",
          "text": [
            "You can check various delicacies given in the food menu at www.mymenu.com\n"
          ],
          "name": "stdout"
        }
      ]
    },
    {
      "cell_type": "code",
      "metadata": {
        "colab_type": "code",
        "id": "kX-CBzN7KAII",
        "outputId": "6c30fe4e-cc37-4c00-b65c-0d58d9176450",
        "colab": {
          "base_uri": "https://localhost:8080/",
          "height": 34
        }
      },
      "source": [
        "context"
      ],
      "execution_count": 0,
      "outputs": [
        {
          "output_type": "execute_result",
          "data": {
            "text/plain": [
              "{'123': 'food'}"
            ]
          },
          "metadata": {
            "tags": []
          },
          "execution_count": 27
        }
      ]
    },
    {
      "cell_type": "code",
      "metadata": {
        "colab_type": "code",
        "id": "TBZyzI1SLeMu",
        "outputId": "b98a9f1b-aece-48e8-ad80-fe40585069da",
        "colab": {
          "base_uri": "https://localhost:8080/",
          "height": 70
        }
      },
      "source": [
        "response(\"Hi there!\", show_details=True)"
      ],
      "execution_count": 0,
      "outputs": [
        {
          "output_type": "stream",
          "text": [
            "context: \n",
            "tag: greeting\n",
            "Good to see you again\n"
          ],
          "name": "stdout"
        }
      ]
    },
    {
      "cell_type": "code",
      "metadata": {
        "colab_type": "code",
        "id": "JB_FgfW4aYua",
        "outputId": "25144d80-d5be-48bf-b7f5-ee4c8bfefbe5",
        "colab": {
          "base_uri": "https://localhost:8080/",
          "height": 34
        }
      },
      "source": [
        "response('What is menu for today?')"
      ],
      "execution_count": 0,
      "outputs": [
        {
          "output_type": "stream",
          "text": [
            "Today's special is Chicken Tikka\n"
          ],
          "name": "stdout"
        }
      ]
    },
    {
      "cell_type": "code",
      "metadata": {
        "colab_type": "code",
        "id": "aBejUcxra0UV",
        "colab": {}
      },
      "source": [],
      "execution_count": 0,
      "outputs": []
    },
    {
      "cell_type": "code",
      "metadata": {
        "colab_type": "code",
        "id": "xYwHSa_Bb6rM",
        "colab": {}
      },
      "source": [],
      "execution_count": 0,
      "outputs": []
    }
  ]
}